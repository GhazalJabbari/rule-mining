{
 "cells": [
  {
   "cell_type": "markdown",
   "metadata": {},
   "source": [
    "### apriori algorithm"
   ]
  },
  {
   "cell_type": "code",
   "execution_count": 1,
   "metadata": {},
   "outputs": [],
   "source": [
    "#!pip install mlxtend"
   ]
  },
  {
   "cell_type": "code",
   "execution_count": 2,
   "metadata": {},
   "outputs": [],
   "source": [
    "import warnings\n",
    "warnings.simplefilter('ignore')"
   ]
  },
  {
   "cell_type": "code",
   "execution_count": 3,
   "metadata": {},
   "outputs": [],
   "source": [
    "import numpy as np  \n",
    "import matplotlib.pyplot as plt  \n",
    "import pandas as pd  \n",
    "\n",
    "# we need to install mlxtend on anaconda prompt by typing 'pip install mlxtend'\n",
    "from mlxtend.frequent_patterns import apriori  \n",
    "from mlxtend.frequent_patterns import association_rules\n",
    "\n",
    "\n",
    "from mlxtend.preprocessing import OnehotTransactions"
   ]
  },
  {
   "cell_type": "markdown",
   "metadata": {},
   "source": [
    "Read Data"
   ]
  },
  {
   "cell_type": "code",
   "execution_count": 4,
   "metadata": {},
   "outputs": [],
   "source": [
    "df = pd.read_csv('./data_products_csv.csv',sep=';')"
   ]
  },
  {
   "cell_type": "code",
   "execution_count": 5,
   "metadata": {},
   "outputs": [
    {
     "name": "stdout",
     "output_type": "stream",
     "text": [
      "<class 'pandas.core.frame.DataFrame'>\n",
      "RangeIndex: 1000 entries, 0 to 999\n",
      "Data columns (total 6 columns):\n",
      "Day of the Week    1000 non-null object\n",
      "Product 1          1000 non-null object\n",
      "Product 2          1000 non-null object\n",
      "Product 3          1000 non-null object\n",
      "Product 4          1000 non-null object\n",
      "Time of the day    1000 non-null object\n",
      "dtypes: object(6)\n",
      "memory usage: 47.0+ KB\n"
     ]
    }
   ],
   "source": [
    "df.info()"
   ]
  },
  {
   "cell_type": "code",
   "execution_count": 6,
   "metadata": {},
   "outputs": [
    {
     "data": {
      "text/html": [
       "<div>\n",
       "<style scoped>\n",
       "    .dataframe tbody tr th:only-of-type {\n",
       "        vertical-align: middle;\n",
       "    }\n",
       "\n",
       "    .dataframe tbody tr th {\n",
       "        vertical-align: top;\n",
       "    }\n",
       "\n",
       "    .dataframe thead th {\n",
       "        text-align: right;\n",
       "    }\n",
       "</style>\n",
       "<table border=\"1\" class=\"dataframe\">\n",
       "  <thead>\n",
       "    <tr style=\"text-align: right;\">\n",
       "      <th></th>\n",
       "      <th>Day of the Week</th>\n",
       "      <th>Product 1</th>\n",
       "      <th>Product 2</th>\n",
       "      <th>Product 3</th>\n",
       "      <th>Product 4</th>\n",
       "      <th>Time of the day</th>\n",
       "    </tr>\n",
       "  </thead>\n",
       "  <tbody>\n",
       "    <tr>\n",
       "      <th>0</th>\n",
       "      <td>Monday</td>\n",
       "      <td>Bread</td>\n",
       "      <td>Orange</td>\n",
       "      <td>Beef</td>\n",
       "      <td>Butter</td>\n",
       "      <td>Evening</td>\n",
       "    </tr>\n",
       "    <tr>\n",
       "      <th>1</th>\n",
       "      <td>Tuesday</td>\n",
       "      <td>Pasta</td>\n",
       "      <td>Apple</td>\n",
       "      <td>Chicken</td>\n",
       "      <td>Cheese</td>\n",
       "      <td>Morning</td>\n",
       "    </tr>\n",
       "    <tr>\n",
       "      <th>2</th>\n",
       "      <td>Wednesday</td>\n",
       "      <td>Rice</td>\n",
       "      <td>Apple</td>\n",
       "      <td>Chicken</td>\n",
       "      <td>Cheese</td>\n",
       "      <td>Afternoon</td>\n",
       "    </tr>\n",
       "    <tr>\n",
       "      <th>3</th>\n",
       "      <td>Thursday</td>\n",
       "      <td>Bread</td>\n",
       "      <td>Orange</td>\n",
       "      <td>Beef</td>\n",
       "      <td>Egg</td>\n",
       "      <td>Morning</td>\n",
       "    </tr>\n",
       "    <tr>\n",
       "      <th>4</th>\n",
       "      <td>Friday</td>\n",
       "      <td>Pasta</td>\n",
       "      <td>Apple</td>\n",
       "      <td>Fish</td>\n",
       "      <td>Egg</td>\n",
       "      <td>Evening</td>\n",
       "    </tr>\n",
       "  </tbody>\n",
       "</table>\n",
       "</div>"
      ],
      "text/plain": [
       "  Day of the Week Product 1 Product 2 Product 3 Product 4 Time of the day\n",
       "0          Monday     Bread    Orange      Beef    Butter         Evening\n",
       "1         Tuesday     Pasta     Apple   Chicken    Cheese         Morning\n",
       "2       Wednesday      Rice     Apple   Chicken    Cheese       Afternoon\n",
       "3        Thursday     Bread    Orange      Beef       Egg         Morning\n",
       "4          Friday     Pasta     Apple      Fish       Egg         Evening"
      ]
     },
     "execution_count": 6,
     "metadata": {},
     "output_type": "execute_result"
    }
   ],
   "source": [
    "df.head()"
   ]
  },
  {
   "cell_type": "code",
   "execution_count": 7,
   "metadata": {},
   "outputs": [],
   "source": [
    "#df = df.dropna()"
   ]
  },
  {
   "cell_type": "code",
   "execution_count": 8,
   "metadata": {},
   "outputs": [],
   "source": [
    "#df = df.replace(np.nan, '', regex=True)"
   ]
  },
  {
   "cell_type": "code",
   "execution_count": 9,
   "metadata": {},
   "outputs": [],
   "source": [
    "#df[''] = df[''].astype(str) "
   ]
  },
  {
   "cell_type": "code",
   "execution_count": 10,
   "metadata": {},
   "outputs": [],
   "source": [
    "dataset = df.values.tolist()"
   ]
  },
  {
   "cell_type": "code",
   "execution_count": 12,
   "metadata": {
    "scrolled": false
   },
   "outputs": [
    {
     "name": "stdout",
     "output_type": "stream",
     "text": [
      "---------------------RULES ARE ------------------------\n"
     ]
    },
    {
     "name": "stderr",
     "output_type": "stream",
     "text": [
      "C:\\Users\\gjab\\AppData\\Local\\Continuum\\Anaconda3\\lib\\site-packages\\mlxtend\\preprocessing\\onehot.py:66: DeprecationWarning: OnehotTransactions has been deprecated and will be removed in future. Please use TransactionEncoder instead.\n",
      "  warnings.warn(msg, DeprecationWarning)\n"
     ]
    },
    {
     "data": {
      "text/html": [
       "<div>\n",
       "<style scoped>\n",
       "    .dataframe tbody tr th:only-of-type {\n",
       "        vertical-align: middle;\n",
       "    }\n",
       "\n",
       "    .dataframe tbody tr th {\n",
       "        vertical-align: top;\n",
       "    }\n",
       "\n",
       "    .dataframe thead th {\n",
       "        text-align: right;\n",
       "    }\n",
       "</style>\n",
       "<table border=\"1\" class=\"dataframe\">\n",
       "  <thead>\n",
       "    <tr style=\"text-align: right;\">\n",
       "      <th></th>\n",
       "      <th>antecedents</th>\n",
       "      <th>consequents</th>\n",
       "      <th>antecedent support</th>\n",
       "      <th>consequent support</th>\n",
       "      <th>support</th>\n",
       "      <th>confidence</th>\n",
       "      <th>lift</th>\n",
       "      <th>leverage</th>\n",
       "      <th>conviction</th>\n",
       "    </tr>\n",
       "  </thead>\n",
       "  <tbody>\n",
       "    <tr>\n",
       "      <th>0</th>\n",
       "      <td>(Apple)</td>\n",
       "      <td>(Bread)</td>\n",
       "      <td>0.401</td>\n",
       "      <td>0.514</td>\n",
       "      <td>0.205</td>\n",
       "      <td>0.511222</td>\n",
       "      <td>0.994595</td>\n",
       "      <td>-0.001114</td>\n",
       "      <td>0.994316</td>\n",
       "    </tr>\n",
       "    <tr>\n",
       "      <th>1</th>\n",
       "      <td>(Apple)</td>\n",
       "      <td>(Chicken)</td>\n",
       "      <td>0.401</td>\n",
       "      <td>0.497</td>\n",
       "      <td>0.215</td>\n",
       "      <td>0.536160</td>\n",
       "      <td>1.078792</td>\n",
       "      <td>0.015703</td>\n",
       "      <td>1.084425</td>\n",
       "    </tr>\n",
       "    <tr>\n",
       "      <th>2</th>\n",
       "      <td>(Apple)</td>\n",
       "      <td>(Evening)</td>\n",
       "      <td>0.401</td>\n",
       "      <td>0.518</td>\n",
       "      <td>0.208</td>\n",
       "      <td>0.518703</td>\n",
       "      <td>1.001358</td>\n",
       "      <td>0.000282</td>\n",
       "      <td>1.001461</td>\n",
       "    </tr>\n",
       "    <tr>\n",
       "      <th>3</th>\n",
       "      <td>(Cheese)</td>\n",
       "      <td>(Bread)</td>\n",
       "      <td>0.392</td>\n",
       "      <td>0.514</td>\n",
       "      <td>0.204</td>\n",
       "      <td>0.520408</td>\n",
       "      <td>1.012467</td>\n",
       "      <td>0.002512</td>\n",
       "      <td>1.013362</td>\n",
       "    </tr>\n",
       "    <tr>\n",
       "      <th>4</th>\n",
       "      <td>(Bread)</td>\n",
       "      <td>(Evening)</td>\n",
       "      <td>0.514</td>\n",
       "      <td>0.518</td>\n",
       "      <td>0.270</td>\n",
       "      <td>0.525292</td>\n",
       "      <td>1.014077</td>\n",
       "      <td>0.003748</td>\n",
       "      <td>1.015361</td>\n",
       "    </tr>\n",
       "    <tr>\n",
       "      <th>5</th>\n",
       "      <td>(Evening)</td>\n",
       "      <td>(Bread)</td>\n",
       "      <td>0.518</td>\n",
       "      <td>0.514</td>\n",
       "      <td>0.270</td>\n",
       "      <td>0.521236</td>\n",
       "      <td>1.014077</td>\n",
       "      <td>0.003748</td>\n",
       "      <td>1.015113</td>\n",
       "    </tr>\n",
       "    <tr>\n",
       "      <th>6</th>\n",
       "      <td>(Cheese)</td>\n",
       "      <td>(Chicken)</td>\n",
       "      <td>0.392</td>\n",
       "      <td>0.497</td>\n",
       "      <td>0.203</td>\n",
       "      <td>0.517857</td>\n",
       "      <td>1.041966</td>\n",
       "      <td>0.008176</td>\n",
       "      <td>1.043259</td>\n",
       "    </tr>\n",
       "    <tr>\n",
       "      <th>7</th>\n",
       "      <td>(Cheese)</td>\n",
       "      <td>(Evening)</td>\n",
       "      <td>0.392</td>\n",
       "      <td>0.518</td>\n",
       "      <td>0.201</td>\n",
       "      <td>0.512755</td>\n",
       "      <td>0.989875</td>\n",
       "      <td>-0.002056</td>\n",
       "      <td>0.989236</td>\n",
       "    </tr>\n",
       "    <tr>\n",
       "      <th>8</th>\n",
       "      <td>(Chicken)</td>\n",
       "      <td>(Evening)</td>\n",
       "      <td>0.497</td>\n",
       "      <td>0.518</td>\n",
       "      <td>0.252</td>\n",
       "      <td>0.507042</td>\n",
       "      <td>0.978846</td>\n",
       "      <td>-0.005446</td>\n",
       "      <td>0.977771</td>\n",
       "    </tr>\n",
       "  </tbody>\n",
       "</table>\n",
       "</div>"
      ],
      "text/plain": [
       "  antecedents consequents  antecedent support  consequent support  support  \\\n",
       "0     (Apple)     (Bread)               0.401               0.514    0.205   \n",
       "1     (Apple)   (Chicken)               0.401               0.497    0.215   \n",
       "2     (Apple)   (Evening)               0.401               0.518    0.208   \n",
       "3    (Cheese)     (Bread)               0.392               0.514    0.204   \n",
       "4     (Bread)   (Evening)               0.514               0.518    0.270   \n",
       "5   (Evening)     (Bread)               0.518               0.514    0.270   \n",
       "6    (Cheese)   (Chicken)               0.392               0.497    0.203   \n",
       "7    (Cheese)   (Evening)               0.392               0.518    0.201   \n",
       "8   (Chicken)   (Evening)               0.497               0.518    0.252   \n",
       "\n",
       "   confidence      lift  leverage  conviction  \n",
       "0    0.511222  0.994595 -0.001114    0.994316  \n",
       "1    0.536160  1.078792  0.015703    1.084425  \n",
       "2    0.518703  1.001358  0.000282    1.001461  \n",
       "3    0.520408  1.012467  0.002512    1.013362  \n",
       "4    0.525292  1.014077  0.003748    1.015361  \n",
       "5    0.521236  1.014077  0.003748    1.015113  \n",
       "6    0.517857  1.041966  0.008176    1.043259  \n",
       "7    0.512755  0.989875 -0.002056    0.989236  \n",
       "8    0.507042  0.978846 -0.005446    0.977771  "
      ]
     },
     "execution_count": 12,
     "metadata": {},
     "output_type": "execute_result"
    }
   ],
   "source": [
    "oht = OnehotTransactions()\n",
    "oht_ary = oht.fit(dataset).transform(dataset)\n",
    "df = pd.DataFrame(oht_ary, columns=oht.columns_)\n",
    "#print (df)           \n",
    "# min_support: if the support threshold is set to 0.5 (50%), a frequent itemset is defined \n",
    "#as a set of items that occur together in at least 50% of all transactions in the database.\n",
    "frequent_itemsets = apriori(df, min_support=0.2, use_colnames=True)\n",
    "#print (frequent_itemsets) \n",
    " \n",
    "#association_rules(frequent_itemsets, metric=\"confidence\", min_threshold=0.9)\n",
    "#rules = association_rules(frequent_itemsets, metric=\"lift\", min_threshold=1.0)\n",
    "rules = association_rules(frequent_itemsets, metric=\"confidence\", min_threshold=0.5)\n",
    "print ('---------------------RULES ARE ------------------------')\n",
    "rules\n"
   ]
  }
 ],
 "metadata": {
  "kernelspec": {
   "display_name": "Python 3",
   "language": "python",
   "name": "python3"
  },
  "language_info": {
   "codemirror_mode": {
    "name": "ipython",
    "version": 3
   },
   "file_extension": ".py",
   "mimetype": "text/x-python",
   "name": "python",
   "nbconvert_exporter": "python",
   "pygments_lexer": "ipython3",
   "version": "3.7.2"
  }
 },
 "nbformat": 4,
 "nbformat_minor": 2
}
